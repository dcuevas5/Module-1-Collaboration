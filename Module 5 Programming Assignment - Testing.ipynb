{
 "cells": [
  {
   "cell_type": "markdown",
   "id": "1b0e1f3c",
   "metadata": {},
   "source": [
    "\n",
    "# Module 5 - Unit Testing Assignment\n",
    "\n",
    "## Test Results\n",
    "\n",
    "A function called `suma(a, b)` was created to return the sum of two numbers.  \n",
    "Then, a unit test class using `unittest` was written with two test methods:\n",
    "\n",
    "- `test_suma_positivos()`: Tests with two positive numbers.\n",
    "- `test_suma_negativos()`: Tests with two negative numbers.\n",
    "\n",
    "The code was executed in VSCode, and the output was:\n",
    "\n",
    "```\n",
    "..\n",
    "----------------------------------------------------------------------\n",
    "Ran 2 tests in 0.000s\n",
    "\n",
    "OK\n",
    "```\n",
    "\n",
    "## What do these results mean?\n",
    "\n",
    "The dots (`..`) indicate that two tests were executed and both passed.  \n",
    "`Ran 2 tests` confirms that two test cases were run.  \n",
    "`OK` means that there were no failures or errors.\n",
    "\n",
    "This confirms that the `suma()` function works correctly for the tested cases.\n"
   ]
  }
 ],
 "metadata": {
  "language_info": {
   "name": "python"
  }
 },
 "nbformat": 4,
 "nbformat_minor": 5
}
