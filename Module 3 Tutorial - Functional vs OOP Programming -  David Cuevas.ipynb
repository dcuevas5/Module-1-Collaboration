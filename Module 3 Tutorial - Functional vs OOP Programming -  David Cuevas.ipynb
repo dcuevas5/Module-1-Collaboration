{
 "cells": [
  {
   "cell_type": "markdown",
   "metadata": {},
   "source": [
    "### OOP Exercise: Sort 0s, 1s, and 2s\n",
    "\n",
    "\n",
    "Given an array arr[] containing only 0s, 1s, and 2s. Sort the array in ascending order.\n",
    "\n",
    "You need to solve this problem without utilizing the built-in sort function."
   ]
  },
  {
   "cell_type": "code",
   "execution_count": 2,
   "metadata": {},
   "outputs": [
    {
     "name": "stdout",
     "output_type": "stream",
     "text": [
      "In Order: [0, 0, 1, 1, 2, 2]\n",
      "In Order: [0, 0, 0, 0, 0, 1, 1, 1, 1, 1, 2, 2]\n"
     ]
    }
   ],
   "source": [
    "\n",
    "class Solution:\n",
    "    def sort012(self, arr, n):\n",
    "        low = 0\n",
    "        mid = 0\n",
    "        high = n - 1\n",
    "\n",
    "        while mid <= high:\n",
    "            if arr[mid] == 0:\n",
    "                arr[low], arr[mid] = arr[mid], arr[low]\n",
    "                low += 1\n",
    "                mid += 1\n",
    "            elif arr[mid] == 1:\n",
    "                mid += 1\n",
    "            else:\n",
    "                arr[mid], arr[high] = arr[high], arr[mid]\n",
    "                high -= 1\n",
    "        return arr\n",
    "\n",
    "# Testing\n",
    "sol = Solution()\n",
    "arr1 = [0, 1, 2, 0, 1, 2]\n",
    "print(\"In Order:\", sol.sort012(arr1, len(arr1)))\n",
    "\n",
    "arr2 = [0, 1, 1, 0, 1, 2, 1, 2, 0, 0, 0, 1]\n",
    "print(\"In Order:\", sol.sort012(arr2, len(arr2)))"
   ]
  },
  {
   "cell_type": "markdown",
   "metadata": {},
   "source": [
    "### Functional Programming Exercise: Binary Search\n",
    "\n",
    "\n",
    "Given a sorted array arr and an integer k, find the position(0-based indexing) at which k is present in the array using binary search.\n",
    "\n",
    "Note: If multiple occurrences are there, please return the smallest index."
   ]
  },
  {
   "cell_type": "code",
   "execution_count": 3,
   "metadata": {},
   "outputs": [
    {
     "name": "stdout",
     "output_type": "stream",
     "text": [
      "First occurrence index: 2\n",
      "First occurrence index: 3\n"
     ]
    }
   ],
   "source": [
    "class Solution:\n",
    "    def binarysearch(self, arr, n, k):\n",
    "        low = 0\n",
    "        high = n - 1\n",
    "        result = -1  # Default if not found\n",
    "\n",
    "        while low <= high:\n",
    "            mid = (low + high) // 2\n",
    "            if arr[mid] == k:\n",
    "                result = mid\n",
    "                high = mid - 1  # Continue searching to the left\n",
    "            elif arr[mid] < k:\n",
    "                low = mid + 1\n",
    "            else:\n",
    "                high = mid - 1\n",
    "\n",
    "        return result\n",
    "\n",
    "# Test \n",
    "sol = Solution()\n",
    "arr1 = [1, 2, 4, 4, 4, 5, 6]\n",
    "k1 = 4\n",
    "print(\"First occurrence index:\", sol.binarysearch(arr1, len(arr1), k1))\n",
    "\n",
    "arr2 = [1, 3, 5, 7, 9]\n",
    "k2 = 7\n",
    "print(\"First occurrence index:\", sol.binarysearch(arr2, len(arr2), k2))"
   ]
  }
 ],
 "metadata": {
  "kernelspec": {
   "display_name": "Python 3",
   "language": "python",
   "name": "python3"
  },
  "language_info": {
   "codemirror_mode": {
    "name": "ipython",
    "version": 3
   },
   "file_extension": ".py",
   "mimetype": "text/x-python",
   "name": "python",
   "nbconvert_exporter": "python",
   "pygments_lexer": "ipython3",
   "version": "3.13.0"
  }
 },
 "nbformat": 4,
 "nbformat_minor": 2
}
